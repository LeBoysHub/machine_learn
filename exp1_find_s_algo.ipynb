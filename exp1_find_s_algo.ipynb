{
  "cells": [
    {
      "cell_type": "markdown",
      "metadata": {
        "id": "view-in-github",
        "colab_type": "text"
      },
      "source": [
        "<a href=\"https://colab.research.google.com/github/LeBoysHub/machine_learn/blob/main/exp1_find_s_algo.ipynb\" target=\"_parent\"><img src=\"https://colab.research.google.com/assets/colab-badge.svg\" alt=\"Open In Colab\"/></a>"
      ]
    },
    {
      "cell_type": "code",
      "execution_count": null,
      "metadata": {
        "id": "C4Bs3OMetrJR"
      },
      "outputs": [],
      "source": [
        "def find_s_algorithm(training_data):\n",
        "    # Initialize the most specific hypothesis\n",
        "    hypothesis = training_data[0][:-1]\n",
        "\n",
        "    # Iterate through the training examples\n",
        "    for example in training_data:\n",
        "        # Check if the example is positive\n",
        "        if example[-1] == 'Yes':\n",
        "            # Generalize the hypothesis\n",
        "            for i in range(len(hypothesis)):\n",
        "                if hypothesis[i] != example[i]:\n",
        "                    hypothesis[i] = '?'\n",
        "\n",
        "    return hypothesis"
      ]
    },
    {
      "cell_type": "code",
      "source": [
        "training_data = [\n",
        "    ['Sunny', 'Warm', 'Normal', 'Strong', 'Warm', 'Same', 'Yes'],\n",
        "    ['Sunny', 'Warm', 'High', 'Strong', 'Warm', 'Same', 'Yes'],\n",
        "    ['Rainy', 'Cold', 'High', 'Strong', 'Warm', 'Change', 'No'],\n",
        "    ['Sunny', 'Warm', 'High', 'Strong', 'Cool', 'Change', 'Yes']\n",
        "]"
      ],
      "metadata": {
        "id": "OBNFRShL9p9Z"
      },
      "execution_count": null,
      "outputs": []
    },
    {
      "cell_type": "code",
      "source": [
        "hypothesis = find_s_algorithm(training_data)\n",
        "print(\"Most specific hypothesis:\", hypothesis)"
      ],
      "metadata": {
        "colab": {
          "base_uri": "https://localhost:8080/"
        },
        "id": "vyycx0px9rf0",
        "outputId": "d6b59dc9-ebae-4e46-a01f-c8da4fcad604"
      },
      "execution_count": null,
      "outputs": [
        {
          "output_type": "stream",
          "name": "stdout",
          "text": [
            "Most specific hypothesis: ['Sunny', 'Warm', '?', 'Strong', '?', '?']\n"
          ]
        }
      ]
    }
  ],
  "metadata": {
    "colab": {
      "provenance": [],
      "authorship_tag": "ABX9TyMXgUEm5LWp65HcxoNULnpR",
      "include_colab_link": true
    },
    "kernelspec": {
      "display_name": "Python 3",
      "name": "python3"
    },
    "language_info": {
      "name": "python"
    }
  },
  "nbformat": 4,
  "nbformat_minor": 0
}