{
  "cells": [
    {
      "cell_type": "markdown",
      "metadata": {
        "id": "view-in-github",
        "colab_type": "text"
      },
      "source": [
        "<a href=\"https://colab.research.google.com/github/LeBoysHub/machine_learn/blob/main/exp1_find_s_algo.ipynb\" target=\"_parent\"><img src=\"https://colab.research.google.com/assets/colab-badge.svg\" alt=\"Open In Colab\"/></a>"
      ]
    },
    {
      "cell_type": "code",
      "execution_count": null,
      "metadata": {
        "id": "C4Bs3OMetrJR"
      },
      "outputs": [],
      "source": [
        "def find_s_algorithm(training_data):\n",
        "    # Initialize the most specific hypothesis\n",
        "    hypothesis = training_data[0][:-1]\n",
        "\n",
        "    # Iterate through the training examples\n",
        "    for example in training_data:\n",
        "        # Check if the example is positive\n",
        "        if example[-1] == 'Yes':\n",
        "            # Generalize the hypothesis\n",
        "            for i in range(len(hypothesis)):\n",
        "                if hypothesis[i] != example[i]:\n",
        "                    hypothesis[i] = '?'\n",
        "\n",
        "    return hypothesis"
      ]
    },
    {
      "cell_type": "code",
      "source": [
        "training_data = [\n",
        "    ['Sunny', 'Warm', 'Normal', 'Strong', 'Warm', 'Same', 'Yes'],\n",
        "    ['Sunny', 'Warm', 'High', 'Strong', 'Warm', 'Same', 'Yes'],\n",
        "    ['Rainy', 'Cold', 'High', 'Strong', 'Warm', 'Change', 'No'],\n",
        "    ['Sunny', 'Warm', 'High', 'Strong', 'Cool', 'Change', 'Yes']\n",
        "]"
      ],
      "metadata": {
        "id": "OBNFRShL9p9Z"
      },
      "execution_count": null,
      "outputs": []
    },
    {
      "cell_type": "code",
      "source": [
        "hypothesis = find_s_algorithm(training_data)\n",
        "print(\"Most specific hypothesis:\", hypothesis)"
      ],
      "metadata": {
        "colab": {
          "base_uri": "https://localhost:8080/"
        },
        "id": "vyycx0px9rf0",
        "outputId": "d6b59dc9-ebae-4e46-a01f-c8da4fcad604"
      },
      "execution_count": null,
      "outputs": [
        {
          "output_type": "stream",
          "name": "stdout",
          "text": [
            "Most specific hypothesis: ['Sunny', 'Warm', '?', 'Strong', '?', '?']\n"
          ]
        }
      ]
    },
    {
      "cell_type": "markdown",
      "source": [
        "exp 2\n"
      ],
      "metadata": {
        "id": "x7Ri8lk-n_2N"
      }
    },
    {
      "cell_type": "code",
      "source": [
        "def candidate_elimination(examples):\n",
        "    specific_h = examples[0][:-1]\n",
        "    general_h = [[\"?\" for _ in range(len(specific_h))] for _ in range(len(specific_h))]\n",
        "\n",
        "    for example in examples:\n",
        "        if example[-1] == \"Y\":\n",
        "            for i in range(len(specific_h)):\n",
        "                if example[i] != specific_h[i]:\n",
        "                    specific_h[i] = \"?\"\n",
        "                    general_h[i][i] = \"?\"\n",
        "        else:\n",
        "            for i in range(len(specific_h)):\n",
        "                if example[i] != specific_h[i]:\n",
        "                    general_h[i][i] = specific_h[i]\n",
        "                else:\n",
        "                    general_h[i][i] = \"?\"\n",
        "\n",
        "    return specific_h, general_h\n",
        "\n"
      ],
      "metadata": {
        "id": "9CZN0Qe6n_mf"
      },
      "execution_count": 1,
      "outputs": []
    },
    {
      "cell_type": "code",
      "source": [
        "# Example training data\n",
        "examples = [\n",
        "    [\"Sunny\", \"Warm\", \"Normal\", \"Strong\", \"Warm\", \"Same\", \"Y\"],\n",
        "    [\"Sunny\", \"Warm\", \"High\", \"Strong\", \"Warm\", \"Same\", \"Y\"],\n",
        "    [\"Rainy\", \"Cold\", \"High\", \"Strong\", \"Warm\", \"Change\", \"N\"],\n",
        "    [\"Sunny\", \"Warm\", \"High\", \"Strong\", \"Cool\", \"Change\", \"Y\"]\n",
        "]\n",
        "\n",
        "\n",
        "specific_hypothesis, general_h = candidate_elimination(examples)\n",
        "g_up=[]\n",
        "for i in general_h:\n",
        "    if i.count(\"?\")!=6:\n",
        "        g_up.append(i)\n",
        "\n",
        "\n",
        "print(\"Final specific hypothesis:\", specific_hypothesis)\n",
        "print(\"Final general hypotheses:\", g_up)"
      ],
      "metadata": {
        "colab": {
          "base_uri": "https://localhost:8080/"
        },
        "id": "QakI2IG_n_jr",
        "outputId": "dadfbdd2-fecc-4802-870a-ff070e540870"
      },
      "execution_count": 2,
      "outputs": [
        {
          "output_type": "stream",
          "name": "stdout",
          "text": [
            "Final specific hypothesis: ['Sunny', 'Warm', '?', 'Strong', '?', '?']\n",
            "Final general hypotheses: [['Sunny', '?', '?', '?', '?', '?'], ['?', 'Warm', '?', '?', '?', '?']]\n"
          ]
        }
      ]
    },
    {
      "cell_type": "code",
      "source": [],
      "metadata": {
        "id": "HRUNPG1-n_hI"
      },
      "execution_count": null,
      "outputs": []
    },
    {
      "cell_type": "code",
      "source": [],
      "metadata": {
        "id": "Dx2pyyhOn_eW"
      },
      "execution_count": null,
      "outputs": []
    }
  ],
  "metadata": {
    "colab": {
      "provenance": [],
      "authorship_tag": "ABX9TyO9ElmwzET1MKXO+817FoV9",
      "include_colab_link": true
    },
    "kernelspec": {
      "display_name": "Python 3",
      "name": "python3"
    },
    "language_info": {
      "name": "python"
    }
  },
  "nbformat": 4,
  "nbformat_minor": 0
}